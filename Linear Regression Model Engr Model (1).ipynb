{
 "cells": [
  {
   "cell_type": "code",
   "execution_count": 93,
   "metadata": {},
   "outputs": [],
   "source": [
    "import pandas as pd\n",
    "import numpy as np\n",
    "import seaborn as sns\n",
    "import matplotlib.pyplot as plt\n",
    "%matplotlib inline"
   ]
  },
  {
   "cell_type": "code",
   "execution_count": 94,
   "metadata": {},
   "outputs": [],
   "source": [
    "jagan = pd.read_csv('C:/Users/akano/Downloads\\Machine-Learning-Using-Scikit-learn-and-other-libraries-master (2)/Machine-Learning-Using-Scikit-learn-and-other-libraries-master/1.Regression/data_jaganAnalysis.csv')\n",
    "tanco = pd.read_csv('C:/Users/akano/Downloads\\Machine-Learning-Using-Scikit-learn-and-other-libraries-master (2)/Machine-Learning-Using-Scikit-learn-and-other-libraries-master/1.Regression/data_tanco1.csv')\n",
    "lemon = pd.read_csv('C:/Users/akano/Downloads\\Machine-Learning-Using-Scikit-learn-and-other-libraries-master (2)/Machine-Learning-Using-Scikit-learn-and-other-libraries-master/1.Regression/data_lemonAnalysis.csv')\n",
    "tangelo = pd.read_csv('C:/Users/akano/Downloads\\Machine-Learning-Using-Scikit-learn-and-other-libraries-master (2)/Machine-Learning-Using-Scikit-learn-and-other-libraries-master/1.Regression/data_tangeloAnalysis.csv')\n"
   ]
  },
  {
   "cell_type": "code",
   "execution_count": 96,
   "metadata": {
    "scrolled": true
   },
   "outputs": [
    {
     "data": {
      "text/html": [
       "<div>\n",
       "<style scoped>\n",
       "    .dataframe tbody tr th:only-of-type {\n",
       "        vertical-align: middle;\n",
       "    }\n",
       "\n",
       "    .dataframe tbody tr th {\n",
       "        vertical-align: top;\n",
       "    }\n",
       "\n",
       "    .dataframe thead th {\n",
       "        text-align: right;\n",
       "    }\n",
       "</style>\n",
       "<table border=\"1\" class=\"dataframe\">\n",
       "  <thead>\n",
       "    <tr style=\"text-align: right;\">\n",
       "      <th></th>\n",
       "      <th>Length (mm)</th>\n",
       "      <th>Width (mm)</th>\n",
       "      <th>Thickness (mm)</th>\n",
       "      <th>Mass (g)</th>\n",
       "      <th>Volume(mm3)</th>\n",
       "    </tr>\n",
       "  </thead>\n",
       "  <tbody>\n",
       "    <tr>\n",
       "      <th>0</th>\n",
       "      <td>75.2</td>\n",
       "      <td>75.1</td>\n",
       "      <td>74.4</td>\n",
       "      <td>187.31</td>\n",
       "      <td>39</td>\n",
       "    </tr>\n",
       "    <tr>\n",
       "      <th>1</th>\n",
       "      <td>78.2</td>\n",
       "      <td>80.3</td>\n",
       "      <td>76.4</td>\n",
       "      <td>235.41</td>\n",
       "      <td>22</td>\n",
       "    </tr>\n",
       "    <tr>\n",
       "      <th>2</th>\n",
       "      <td>75.8</td>\n",
       "      <td>68.0</td>\n",
       "      <td>62.0</td>\n",
       "      <td>161.44</td>\n",
       "      <td>25</td>\n",
       "    </tr>\n",
       "    <tr>\n",
       "      <th>3</th>\n",
       "      <td>66.7</td>\n",
       "      <td>65.8</td>\n",
       "      <td>67.7</td>\n",
       "      <td>183.56</td>\n",
       "      <td>26</td>\n",
       "    </tr>\n",
       "    <tr>\n",
       "      <th>4</th>\n",
       "      <td>64.0</td>\n",
       "      <td>65.8</td>\n",
       "      <td>67.8</td>\n",
       "      <td>161.50</td>\n",
       "      <td>40</td>\n",
       "    </tr>\n",
       "  </tbody>\n",
       "</table>\n",
       "</div>"
      ],
      "text/plain": [
       "   Length (mm)  Width (mm)  Thickness (mm)  Mass (g)  Volume(mm3)\n",
       "0         75.2        75.1            74.4    187.31           39\n",
       "1         78.2        80.3            76.4    235.41           22\n",
       "2         75.8        68.0            62.0    161.44           25\n",
       "3         66.7        65.8            67.7    183.56           26\n",
       "4         64.0        65.8            67.8    161.50           40"
      ]
     },
     "execution_count": 96,
     "metadata": {},
     "output_type": "execute_result"
    }
   ],
   "source": [
    "jagan.head()"
   ]
  },
  {
   "cell_type": "code",
   "execution_count": 97,
   "metadata": {},
   "outputs": [
    {
     "data": {
      "text/html": [
       "<div>\n",
       "<style scoped>\n",
       "    .dataframe tbody tr th:only-of-type {\n",
       "        vertical-align: middle;\n",
       "    }\n",
       "\n",
       "    .dataframe tbody tr th {\n",
       "        vertical-align: top;\n",
       "    }\n",
       "\n",
       "    .dataframe thead th {\n",
       "        text-align: right;\n",
       "    }\n",
       "</style>\n",
       "<table border=\"1\" class=\"dataframe\">\n",
       "  <thead>\n",
       "    <tr style=\"text-align: right;\">\n",
       "      <th></th>\n",
       "      <th>Length (mm)</th>\n",
       "      <th>Width (mm)</th>\n",
       "      <th>Thickness (mm)</th>\n",
       "      <th>Mass (g)</th>\n",
       "      <th>Volume(mm3)</th>\n",
       "    </tr>\n",
       "  </thead>\n",
       "  <tbody>\n",
       "    <tr>\n",
       "      <th>0</th>\n",
       "      <td>76.4</td>\n",
       "      <td>76.75</td>\n",
       "      <td>70.0</td>\n",
       "      <td>206.3</td>\n",
       "      <td>39</td>\n",
       "    </tr>\n",
       "    <tr>\n",
       "      <th>1</th>\n",
       "      <td>79.5</td>\n",
       "      <td>70.85</td>\n",
       "      <td>66.6</td>\n",
       "      <td>178.8</td>\n",
       "      <td>22</td>\n",
       "    </tr>\n",
       "    <tr>\n",
       "      <th>2</th>\n",
       "      <td>76.4</td>\n",
       "      <td>76.00</td>\n",
       "      <td>64.0</td>\n",
       "      <td>203.5</td>\n",
       "      <td>25</td>\n",
       "    </tr>\n",
       "    <tr>\n",
       "      <th>3</th>\n",
       "      <td>70.2</td>\n",
       "      <td>71.00</td>\n",
       "      <td>62.5</td>\n",
       "      <td>164.0</td>\n",
       "      <td>26</td>\n",
       "    </tr>\n",
       "    <tr>\n",
       "      <th>4</th>\n",
       "      <td>74.1</td>\n",
       "      <td>75.90</td>\n",
       "      <td>70.0</td>\n",
       "      <td>188.0</td>\n",
       "      <td>40</td>\n",
       "    </tr>\n",
       "  </tbody>\n",
       "</table>\n",
       "</div>"
      ],
      "text/plain": [
       "   Length (mm)  Width (mm)  Thickness (mm)  Mass (g)  Volume(mm3)\n",
       "0         76.4       76.75            70.0     206.3           39\n",
       "1         79.5       70.85            66.6     178.8           22\n",
       "2         76.4       76.00            64.0     203.5           25\n",
       "3         70.2       71.00            62.5     164.0           26\n",
       "4         74.1       75.90            70.0     188.0           40"
      ]
     },
     "execution_count": 97,
     "metadata": {},
     "output_type": "execute_result"
    }
   ],
   "source": [
    "tanco.head()"
   ]
  },
  {
   "cell_type": "code",
   "execution_count": 98,
   "metadata": {},
   "outputs": [
    {
     "data": {
      "text/html": [
       "<div>\n",
       "<style scoped>\n",
       "    .dataframe tbody tr th:only-of-type {\n",
       "        vertical-align: middle;\n",
       "    }\n",
       "\n",
       "    .dataframe tbody tr th {\n",
       "        vertical-align: top;\n",
       "    }\n",
       "\n",
       "    .dataframe thead th {\n",
       "        text-align: right;\n",
       "    }\n",
       "</style>\n",
       "<table border=\"1\" class=\"dataframe\">\n",
       "  <thead>\n",
       "    <tr style=\"text-align: right;\">\n",
       "      <th></th>\n",
       "      <th>Length (mm)</th>\n",
       "      <th>Width (mm)</th>\n",
       "      <th>Thickness (mm)</th>\n",
       "      <th>Mass (g)</th>\n",
       "      <th>Volume (mm3)</th>\n",
       "    </tr>\n",
       "  </thead>\n",
       "  <tbody>\n",
       "    <tr>\n",
       "      <th>0</th>\n",
       "      <td>82.6</td>\n",
       "      <td>77.1</td>\n",
       "      <td>76.7</td>\n",
       "      <td>244.3</td>\n",
       "      <td>195</td>\n",
       "    </tr>\n",
       "    <tr>\n",
       "      <th>1</th>\n",
       "      <td>65.8</td>\n",
       "      <td>64.6</td>\n",
       "      <td>72.3</td>\n",
       "      <td>147.4</td>\n",
       "      <td>102</td>\n",
       "    </tr>\n",
       "    <tr>\n",
       "      <th>2</th>\n",
       "      <td>87.5</td>\n",
       "      <td>85.9</td>\n",
       "      <td>77.4</td>\n",
       "      <td>285.1</td>\n",
       "      <td>251</td>\n",
       "    </tr>\n",
       "    <tr>\n",
       "      <th>3</th>\n",
       "      <td>69.9</td>\n",
       "      <td>68.4</td>\n",
       "      <td>64.0</td>\n",
       "      <td>168.0</td>\n",
       "      <td>137</td>\n",
       "    </tr>\n",
       "    <tr>\n",
       "      <th>4</th>\n",
       "      <td>80.6</td>\n",
       "      <td>79.7</td>\n",
       "      <td>82.5</td>\n",
       "      <td>274.1</td>\n",
       "      <td>242</td>\n",
       "    </tr>\n",
       "  </tbody>\n",
       "</table>\n",
       "</div>"
      ],
      "text/plain": [
       "   Length (mm)  Width (mm)  Thickness (mm)  Mass (g)  Volume (mm3)\n",
       "0         82.6        77.1            76.7     244.3           195\n",
       "1         65.8        64.6            72.3     147.4           102\n",
       "2         87.5        85.9            77.4     285.1           251\n",
       "3         69.9        68.4            64.0     168.0           137\n",
       "4         80.6        79.7            82.5     274.1           242"
      ]
     },
     "execution_count": 98,
     "metadata": {},
     "output_type": "execute_result"
    }
   ],
   "source": [
    "lemon.head()"
   ]
  },
  {
   "cell_type": "code",
   "execution_count": 99,
   "metadata": {},
   "outputs": [
    {
     "data": {
      "text/html": [
       "<div>\n",
       "<style scoped>\n",
       "    .dataframe tbody tr th:only-of-type {\n",
       "        vertical-align: middle;\n",
       "    }\n",
       "\n",
       "    .dataframe tbody tr th {\n",
       "        vertical-align: top;\n",
       "    }\n",
       "\n",
       "    .dataframe thead th {\n",
       "        text-align: right;\n",
       "    }\n",
       "</style>\n",
       "<table border=\"1\" class=\"dataframe\">\n",
       "  <thead>\n",
       "    <tr style=\"text-align: right;\">\n",
       "      <th></th>\n",
       "      <th>Length (mm)</th>\n",
       "      <th>Width (mm)</th>\n",
       "      <th>Thickness (mm)</th>\n",
       "      <th>Mass (g)</th>\n",
       "      <th>Volume (mm3)</th>\n",
       "    </tr>\n",
       "  </thead>\n",
       "  <tbody>\n",
       "    <tr>\n",
       "      <th>0</th>\n",
       "      <td>45.2</td>\n",
       "      <td>46.2</td>\n",
       "      <td>39.10</td>\n",
       "      <td>37.3</td>\n",
       "      <td>39</td>\n",
       "    </tr>\n",
       "    <tr>\n",
       "      <th>1</th>\n",
       "      <td>38.3</td>\n",
       "      <td>38.0</td>\n",
       "      <td>34.95</td>\n",
       "      <td>23.6</td>\n",
       "      <td>22</td>\n",
       "    </tr>\n",
       "    <tr>\n",
       "      <th>2</th>\n",
       "      <td>42.2</td>\n",
       "      <td>37.5</td>\n",
       "      <td>35.10</td>\n",
       "      <td>25.4</td>\n",
       "      <td>25</td>\n",
       "    </tr>\n",
       "    <tr>\n",
       "      <th>3</th>\n",
       "      <td>37.2</td>\n",
       "      <td>41.9</td>\n",
       "      <td>36.70</td>\n",
       "      <td>26.2</td>\n",
       "      <td>26</td>\n",
       "    </tr>\n",
       "    <tr>\n",
       "      <th>4</th>\n",
       "      <td>44.7</td>\n",
       "      <td>47.0</td>\n",
       "      <td>41.20</td>\n",
       "      <td>40.0</td>\n",
       "      <td>40</td>\n",
       "    </tr>\n",
       "  </tbody>\n",
       "</table>\n",
       "</div>"
      ],
      "text/plain": [
       "   Length (mm)  Width (mm)  Thickness (mm)  Mass (g)  Volume (mm3)\n",
       "0         45.2        46.2           39.10      37.3            39\n",
       "1         38.3        38.0           34.95      23.6            22\n",
       "2         42.2        37.5           35.10      25.4            25\n",
       "3         37.2        41.9           36.70      26.2            26\n",
       "4         44.7        47.0           41.20      40.0            40"
      ]
     },
     "execution_count": 99,
     "metadata": {},
     "output_type": "execute_result"
    }
   ],
   "source": [
    "tangelo.head()"
   ]
  },
  {
   "cell_type": "code",
   "execution_count": 100,
   "metadata": {},
   "outputs": [
    {
     "data": {
      "text/html": [
       "<div>\n",
       "<style scoped>\n",
       "    .dataframe tbody tr th:only-of-type {\n",
       "        vertical-align: middle;\n",
       "    }\n",
       "\n",
       "    .dataframe tbody tr th {\n",
       "        vertical-align: top;\n",
       "    }\n",
       "\n",
       "    .dataframe thead th {\n",
       "        text-align: right;\n",
       "    }\n",
       "</style>\n",
       "<table border=\"1\" class=\"dataframe\">\n",
       "  <thead>\n",
       "    <tr style=\"text-align: right;\">\n",
       "      <th></th>\n",
       "      <th>Length (mm)</th>\n",
       "      <th>Width (mm)</th>\n",
       "      <th>Thickness (mm)</th>\n",
       "      <th>Mass (g)</th>\n",
       "      <th>Volume(mm3)</th>\n",
       "    </tr>\n",
       "  </thead>\n",
       "  <tbody>\n",
       "    <tr>\n",
       "      <th>count</th>\n",
       "      <td>104.000000</td>\n",
       "      <td>104.000000</td>\n",
       "      <td>104.000000</td>\n",
       "      <td>104.000000</td>\n",
       "      <td>104.000000</td>\n",
       "    </tr>\n",
       "    <tr>\n",
       "      <th>mean</th>\n",
       "      <td>69.889423</td>\n",
       "      <td>69.708654</td>\n",
       "      <td>69.588462</td>\n",
       "      <td>190.418654</td>\n",
       "      <td>38.009615</td>\n",
       "    </tr>\n",
       "    <tr>\n",
       "      <th>std</th>\n",
       "      <td>5.157781</td>\n",
       "      <td>4.854927</td>\n",
       "      <td>5.024374</td>\n",
       "      <td>29.012637</td>\n",
       "      <td>15.295469</td>\n",
       "    </tr>\n",
       "    <tr>\n",
       "      <th>min</th>\n",
       "      <td>55.900000</td>\n",
       "      <td>55.100000</td>\n",
       "      <td>55.200000</td>\n",
       "      <td>106.060000</td>\n",
       "      <td>15.000000</td>\n",
       "    </tr>\n",
       "    <tr>\n",
       "      <th>25%</th>\n",
       "      <td>65.900000</td>\n",
       "      <td>66.500000</td>\n",
       "      <td>66.425000</td>\n",
       "      <td>175.417500</td>\n",
       "      <td>28.000000</td>\n",
       "    </tr>\n",
       "    <tr>\n",
       "      <th>50%</th>\n",
       "      <td>70.450000</td>\n",
       "      <td>69.650000</td>\n",
       "      <td>69.850000</td>\n",
       "      <td>191.340000</td>\n",
       "      <td>34.000000</td>\n",
       "    </tr>\n",
       "    <tr>\n",
       "      <th>75%</th>\n",
       "      <td>73.800000</td>\n",
       "      <td>73.225000</td>\n",
       "      <td>72.650000</td>\n",
       "      <td>209.755000</td>\n",
       "      <td>44.250000</td>\n",
       "    </tr>\n",
       "    <tr>\n",
       "      <th>max</th>\n",
       "      <td>80.700000</td>\n",
       "      <td>80.300000</td>\n",
       "      <td>81.700000</td>\n",
       "      <td>252.280000</td>\n",
       "      <td>100.000000</td>\n",
       "    </tr>\n",
       "  </tbody>\n",
       "</table>\n",
       "</div>"
      ],
      "text/plain": [
       "       Length (mm)  Width (mm)  Thickness (mm)    Mass (g)  Volume(mm3)\n",
       "count   104.000000  104.000000      104.000000  104.000000   104.000000\n",
       "mean     69.889423   69.708654       69.588462  190.418654    38.009615\n",
       "std       5.157781    4.854927        5.024374   29.012637    15.295469\n",
       "min      55.900000   55.100000       55.200000  106.060000    15.000000\n",
       "25%      65.900000   66.500000       66.425000  175.417500    28.000000\n",
       "50%      70.450000   69.650000       69.850000  191.340000    34.000000\n",
       "75%      73.800000   73.225000       72.650000  209.755000    44.250000\n",
       "max      80.700000   80.300000       81.700000  252.280000   100.000000"
      ]
     },
     "execution_count": 100,
     "metadata": {},
     "output_type": "execute_result"
    }
   ],
   "source": [
    "jagan.describe()"
   ]
  },
  {
   "cell_type": "code",
   "execution_count": 101,
   "metadata": {},
   "outputs": [
    {
     "data": {
      "text/html": [
       "<div>\n",
       "<style scoped>\n",
       "    .dataframe tbody tr th:only-of-type {\n",
       "        vertical-align: middle;\n",
       "    }\n",
       "\n",
       "    .dataframe tbody tr th {\n",
       "        vertical-align: top;\n",
       "    }\n",
       "\n",
       "    .dataframe thead th {\n",
       "        text-align: right;\n",
       "    }\n",
       "</style>\n",
       "<table border=\"1\" class=\"dataframe\">\n",
       "  <thead>\n",
       "    <tr style=\"text-align: right;\">\n",
       "      <th></th>\n",
       "      <th>Length (mm)</th>\n",
       "      <th>Width (mm)</th>\n",
       "      <th>Thickness (mm)</th>\n",
       "      <th>Mass (g)</th>\n",
       "      <th>Volume(mm3)</th>\n",
       "    </tr>\n",
       "  </thead>\n",
       "  <tbody>\n",
       "    <tr>\n",
       "      <th>count</th>\n",
       "      <td>124.000000</td>\n",
       "      <td>124.000000</td>\n",
       "      <td>124.000000</td>\n",
       "      <td>124.000000</td>\n",
       "      <td>124.000000</td>\n",
       "    </tr>\n",
       "    <tr>\n",
       "      <th>mean</th>\n",
       "      <td>70.540323</td>\n",
       "      <td>71.033468</td>\n",
       "      <td>64.864516</td>\n",
       "      <td>178.921774</td>\n",
       "      <td>35.766129</td>\n",
       "    </tr>\n",
       "    <tr>\n",
       "      <th>std</th>\n",
       "      <td>4.862515</td>\n",
       "      <td>4.744791</td>\n",
       "      <td>5.577440</td>\n",
       "      <td>24.762339</td>\n",
       "      <td>15.160984</td>\n",
       "    </tr>\n",
       "    <tr>\n",
       "      <th>min</th>\n",
       "      <td>58.200000</td>\n",
       "      <td>57.850000</td>\n",
       "      <td>53.600000</td>\n",
       "      <td>115.800000</td>\n",
       "      <td>15.000000</td>\n",
       "    </tr>\n",
       "    <tr>\n",
       "      <th>25%</th>\n",
       "      <td>67.375000</td>\n",
       "      <td>68.037500</td>\n",
       "      <td>61.550000</td>\n",
       "      <td>160.400000</td>\n",
       "      <td>26.750000</td>\n",
       "    </tr>\n",
       "    <tr>\n",
       "      <th>50%</th>\n",
       "      <td>70.800000</td>\n",
       "      <td>70.925000</td>\n",
       "      <td>64.000000</td>\n",
       "      <td>179.500000</td>\n",
       "      <td>31.500000</td>\n",
       "    </tr>\n",
       "    <tr>\n",
       "      <th>75%</th>\n",
       "      <td>74.100000</td>\n",
       "      <td>74.362500</td>\n",
       "      <td>67.400000</td>\n",
       "      <td>195.425000</td>\n",
       "      <td>40.000000</td>\n",
       "    </tr>\n",
       "    <tr>\n",
       "      <th>max</th>\n",
       "      <td>80.600000</td>\n",
       "      <td>86.300000</td>\n",
       "      <td>95.500000</td>\n",
       "      <td>245.500000</td>\n",
       "      <td>100.000000</td>\n",
       "    </tr>\n",
       "  </tbody>\n",
       "</table>\n",
       "</div>"
      ],
      "text/plain": [
       "       Length (mm)  Width (mm)  Thickness (mm)    Mass (g)  Volume(mm3)\n",
       "count   124.000000  124.000000      124.000000  124.000000   124.000000\n",
       "mean     70.540323   71.033468       64.864516  178.921774    35.766129\n",
       "std       4.862515    4.744791        5.577440   24.762339    15.160984\n",
       "min      58.200000   57.850000       53.600000  115.800000    15.000000\n",
       "25%      67.375000   68.037500       61.550000  160.400000    26.750000\n",
       "50%      70.800000   70.925000       64.000000  179.500000    31.500000\n",
       "75%      74.100000   74.362500       67.400000  195.425000    40.000000\n",
       "max      80.600000   86.300000       95.500000  245.500000   100.000000"
      ]
     },
     "execution_count": 101,
     "metadata": {},
     "output_type": "execute_result"
    }
   ],
   "source": [
    "tanco.describe()"
   ]
  },
  {
   "cell_type": "code",
   "execution_count": 102,
   "metadata": {},
   "outputs": [
    {
     "data": {
      "text/html": [
       "<div>\n",
       "<style scoped>\n",
       "    .dataframe tbody tr th:only-of-type {\n",
       "        vertical-align: middle;\n",
       "    }\n",
       "\n",
       "    .dataframe tbody tr th {\n",
       "        vertical-align: top;\n",
       "    }\n",
       "\n",
       "    .dataframe thead th {\n",
       "        text-align: right;\n",
       "    }\n",
       "</style>\n",
       "<table border=\"1\" class=\"dataframe\">\n",
       "  <thead>\n",
       "    <tr style=\"text-align: right;\">\n",
       "      <th></th>\n",
       "      <th>Length (mm)</th>\n",
       "      <th>Width (mm)</th>\n",
       "      <th>Thickness (mm)</th>\n",
       "      <th>Mass (g)</th>\n",
       "      <th>Volume (mm3)</th>\n",
       "    </tr>\n",
       "  </thead>\n",
       "  <tbody>\n",
       "    <tr>\n",
       "      <th>count</th>\n",
       "      <td>106.000000</td>\n",
       "      <td>106.000000</td>\n",
       "      <td>106.000000</td>\n",
       "      <td>106.000000</td>\n",
       "      <td>106.000000</td>\n",
       "    </tr>\n",
       "    <tr>\n",
       "      <th>mean</th>\n",
       "      <td>70.561321</td>\n",
       "      <td>69.540566</td>\n",
       "      <td>71.501887</td>\n",
       "      <td>175.966981</td>\n",
       "      <td>135.537736</td>\n",
       "    </tr>\n",
       "    <tr>\n",
       "      <th>std</th>\n",
       "      <td>7.426806</td>\n",
       "      <td>7.028565</td>\n",
       "      <td>6.120162</td>\n",
       "      <td>47.995543</td>\n",
       "      <td>48.934198</td>\n",
       "    </tr>\n",
       "    <tr>\n",
       "      <th>min</th>\n",
       "      <td>57.800000</td>\n",
       "      <td>58.100000</td>\n",
       "      <td>61.500000</td>\n",
       "      <td>114.200000</td>\n",
       "      <td>64.000000</td>\n",
       "    </tr>\n",
       "    <tr>\n",
       "      <th>25%</th>\n",
       "      <td>65.025000</td>\n",
       "      <td>64.650000</td>\n",
       "      <td>67.150000</td>\n",
       "      <td>141.825000</td>\n",
       "      <td>104.000000</td>\n",
       "    </tr>\n",
       "    <tr>\n",
       "      <th>50%</th>\n",
       "      <td>68.650000</td>\n",
       "      <td>67.850000</td>\n",
       "      <td>70.250000</td>\n",
       "      <td>161.300000</td>\n",
       "      <td>123.500000</td>\n",
       "    </tr>\n",
       "    <tr>\n",
       "      <th>75%</th>\n",
       "      <td>73.250000</td>\n",
       "      <td>72.050000</td>\n",
       "      <td>75.050000</td>\n",
       "      <td>193.175000</td>\n",
       "      <td>155.000000</td>\n",
       "    </tr>\n",
       "    <tr>\n",
       "      <th>max</th>\n",
       "      <td>91.600000</td>\n",
       "      <td>91.300000</td>\n",
       "      <td>97.300000</td>\n",
       "      <td>356.900000</td>\n",
       "      <td>319.000000</td>\n",
       "    </tr>\n",
       "  </tbody>\n",
       "</table>\n",
       "</div>"
      ],
      "text/plain": [
       "       Length (mm)  Width (mm)  Thickness (mm)    Mass (g)  Volume (mm3)\n",
       "count   106.000000  106.000000      106.000000  106.000000    106.000000\n",
       "mean     70.561321   69.540566       71.501887  175.966981    135.537736\n",
       "std       7.426806    7.028565        6.120162   47.995543     48.934198\n",
       "min      57.800000   58.100000       61.500000  114.200000     64.000000\n",
       "25%      65.025000   64.650000       67.150000  141.825000    104.000000\n",
       "50%      68.650000   67.850000       70.250000  161.300000    123.500000\n",
       "75%      73.250000   72.050000       75.050000  193.175000    155.000000\n",
       "max      91.600000   91.300000       97.300000  356.900000    319.000000"
      ]
     },
     "execution_count": 102,
     "metadata": {},
     "output_type": "execute_result"
    }
   ],
   "source": [
    "lemon.describe()"
   ]
  },
  {
   "cell_type": "code",
   "execution_count": 103,
   "metadata": {},
   "outputs": [
    {
     "data": {
      "text/html": [
       "<div>\n",
       "<style scoped>\n",
       "    .dataframe tbody tr th:only-of-type {\n",
       "        vertical-align: middle;\n",
       "    }\n",
       "\n",
       "    .dataframe tbody tr th {\n",
       "        vertical-align: top;\n",
       "    }\n",
       "\n",
       "    .dataframe thead th {\n",
       "        text-align: right;\n",
       "    }\n",
       "</style>\n",
       "<table border=\"1\" class=\"dataframe\">\n",
       "  <thead>\n",
       "    <tr style=\"text-align: right;\">\n",
       "      <th></th>\n",
       "      <th>Length (mm)</th>\n",
       "      <th>Width (mm)</th>\n",
       "      <th>Thickness (mm)</th>\n",
       "      <th>Mass (g)</th>\n",
       "      <th>Volume (mm3)</th>\n",
       "    </tr>\n",
       "  </thead>\n",
       "  <tbody>\n",
       "    <tr>\n",
       "      <th>count</th>\n",
       "      <td>120.000000</td>\n",
       "      <td>120.000000</td>\n",
       "      <td>120.000000</td>\n",
       "      <td>120.000000</td>\n",
       "      <td>120.000000</td>\n",
       "    </tr>\n",
       "    <tr>\n",
       "      <th>mean</th>\n",
       "      <td>47.880417</td>\n",
       "      <td>42.055417</td>\n",
       "      <td>37.860417</td>\n",
       "      <td>35.608333</td>\n",
       "      <td>36.458333</td>\n",
       "    </tr>\n",
       "    <tr>\n",
       "      <th>std</th>\n",
       "      <td>7.858692</td>\n",
       "      <td>5.231509</td>\n",
       "      <td>4.348210</td>\n",
       "      <td>13.189024</td>\n",
       "      <td>14.919896</td>\n",
       "    </tr>\n",
       "    <tr>\n",
       "      <th>min</th>\n",
       "      <td>32.200000</td>\n",
       "      <td>30.800000</td>\n",
       "      <td>28.700000</td>\n",
       "      <td>15.100000</td>\n",
       "      <td>15.000000</td>\n",
       "    </tr>\n",
       "    <tr>\n",
       "      <th>25%</th>\n",
       "      <td>42.750000</td>\n",
       "      <td>38.300000</td>\n",
       "      <td>34.950000</td>\n",
       "      <td>27.300000</td>\n",
       "      <td>27.000000</td>\n",
       "    </tr>\n",
       "    <tr>\n",
       "      <th>50%</th>\n",
       "      <td>46.025000</td>\n",
       "      <td>41.650000</td>\n",
       "      <td>36.750000</td>\n",
       "      <td>32.150000</td>\n",
       "      <td>32.000000</td>\n",
       "    </tr>\n",
       "    <tr>\n",
       "      <th>75%</th>\n",
       "      <td>51.925000</td>\n",
       "      <td>45.075000</td>\n",
       "      <td>40.425000</td>\n",
       "      <td>41.400000</td>\n",
       "      <td>40.750000</td>\n",
       "    </tr>\n",
       "    <tr>\n",
       "      <th>max</th>\n",
       "      <td>74.900000</td>\n",
       "      <td>57.300000</td>\n",
       "      <td>50.700000</td>\n",
       "      <td>94.800000</td>\n",
       "      <td>100.000000</td>\n",
       "    </tr>\n",
       "  </tbody>\n",
       "</table>\n",
       "</div>"
      ],
      "text/plain": [
       "       Length (mm)  Width (mm)  Thickness (mm)    Mass (g)  Volume (mm3)\n",
       "count   120.000000  120.000000      120.000000  120.000000    120.000000\n",
       "mean     47.880417   42.055417       37.860417   35.608333     36.458333\n",
       "std       7.858692    5.231509        4.348210   13.189024     14.919896\n",
       "min      32.200000   30.800000       28.700000   15.100000     15.000000\n",
       "25%      42.750000   38.300000       34.950000   27.300000     27.000000\n",
       "50%      46.025000   41.650000       36.750000   32.150000     32.000000\n",
       "75%      51.925000   45.075000       40.425000   41.400000     40.750000\n",
       "max      74.900000   57.300000       50.700000   94.800000    100.000000"
      ]
     },
     "execution_count": 103,
     "metadata": {},
     "output_type": "execute_result"
    }
   ],
   "source": [
    "tangelo.describe()"
   ]
  },
  {
   "cell_type": "code",
   "execution_count": 104,
   "metadata": {},
   "outputs": [],
   "source": [
    "correlation_jagan = jagan.corr()\n",
    "correlation_tanco = tanco.corr()\n",
    "correlation_lemon = lemon.corr()\n",
    "correlation_tangelo = tangelo.corr()"
   ]
  },
  {
   "cell_type": "code",
   "execution_count": 105,
   "metadata": {},
   "outputs": [],
   "source": [
    "export_correlation_jagan = correlation_jagan\n",
    "export_correlation_jagan.to_csv(\"jagan result correlation\")"
   ]
  },
  {
   "cell_type": "code",
   "execution_count": 106,
   "metadata": {},
   "outputs": [
    {
     "data": {
      "text/html": [
       "<div>\n",
       "<style scoped>\n",
       "    .dataframe tbody tr th:only-of-type {\n",
       "        vertical-align: middle;\n",
       "    }\n",
       "\n",
       "    .dataframe tbody tr th {\n",
       "        vertical-align: top;\n",
       "    }\n",
       "\n",
       "    .dataframe thead th {\n",
       "        text-align: right;\n",
       "    }\n",
       "</style>\n",
       "<table border=\"1\" class=\"dataframe\">\n",
       "  <thead>\n",
       "    <tr style=\"text-align: right;\">\n",
       "      <th></th>\n",
       "      <th>Length (mm)</th>\n",
       "      <th>Width (mm)</th>\n",
       "      <th>Thickness (mm)</th>\n",
       "      <th>Mass (g)</th>\n",
       "      <th>Volume(mm3)</th>\n",
       "    </tr>\n",
       "  </thead>\n",
       "  <tbody>\n",
       "    <tr>\n",
       "      <th>Length (mm)</th>\n",
       "      <td>1.000000</td>\n",
       "      <td>0.798853</td>\n",
       "      <td>0.414400</td>\n",
       "      <td>0.762974</td>\n",
       "      <td>0.029288</td>\n",
       "    </tr>\n",
       "    <tr>\n",
       "      <th>Width (mm)</th>\n",
       "      <td>0.798853</td>\n",
       "      <td>1.000000</td>\n",
       "      <td>0.333033</td>\n",
       "      <td>0.842007</td>\n",
       "      <td>-0.020567</td>\n",
       "    </tr>\n",
       "    <tr>\n",
       "      <th>Thickness (mm)</th>\n",
       "      <td>0.414400</td>\n",
       "      <td>0.333033</td>\n",
       "      <td>1.000000</td>\n",
       "      <td>0.425463</td>\n",
       "      <td>0.047407</td>\n",
       "    </tr>\n",
       "    <tr>\n",
       "      <th>Mass (g)</th>\n",
       "      <td>0.762974</td>\n",
       "      <td>0.842007</td>\n",
       "      <td>0.425463</td>\n",
       "      <td>1.000000</td>\n",
       "      <td>0.024147</td>\n",
       "    </tr>\n",
       "    <tr>\n",
       "      <th>Volume(mm3)</th>\n",
       "      <td>0.029288</td>\n",
       "      <td>-0.020567</td>\n",
       "      <td>0.047407</td>\n",
       "      <td>0.024147</td>\n",
       "      <td>1.000000</td>\n",
       "    </tr>\n",
       "  </tbody>\n",
       "</table>\n",
       "</div>"
      ],
      "text/plain": [
       "                Length (mm)  Width (mm)  Thickness (mm)  Mass (g)  Volume(mm3)\n",
       "Length (mm)        1.000000    0.798853        0.414400  0.762974     0.029288\n",
       "Width (mm)         0.798853    1.000000        0.333033  0.842007    -0.020567\n",
       "Thickness (mm)     0.414400    0.333033        1.000000  0.425463     0.047407\n",
       "Mass (g)           0.762974    0.842007        0.425463  1.000000     0.024147\n",
       "Volume(mm3)        0.029288   -0.020567        0.047407  0.024147     1.000000"
      ]
     },
     "execution_count": 106,
     "metadata": {},
     "output_type": "execute_result"
    }
   ],
   "source": [
    "correlation_tanco"
   ]
  },
  {
   "cell_type": "code",
   "execution_count": 107,
   "metadata": {},
   "outputs": [
    {
     "data": {
      "text/html": [
       "<div>\n",
       "<style scoped>\n",
       "    .dataframe tbody tr th:only-of-type {\n",
       "        vertical-align: middle;\n",
       "    }\n",
       "\n",
       "    .dataframe tbody tr th {\n",
       "        vertical-align: top;\n",
       "    }\n",
       "\n",
       "    .dataframe thead th {\n",
       "        text-align: right;\n",
       "    }\n",
       "</style>\n",
       "<table border=\"1\" class=\"dataframe\">\n",
       "  <thead>\n",
       "    <tr style=\"text-align: right;\">\n",
       "      <th></th>\n",
       "      <th>Length (mm)</th>\n",
       "      <th>Width (mm)</th>\n",
       "      <th>Thickness (mm)</th>\n",
       "      <th>Mass (g)</th>\n",
       "      <th>Volume (mm3)</th>\n",
       "    </tr>\n",
       "  </thead>\n",
       "  <tbody>\n",
       "    <tr>\n",
       "      <th>Length (mm)</th>\n",
       "      <td>1.000000</td>\n",
       "      <td>0.815514</td>\n",
       "      <td>0.609214</td>\n",
       "      <td>0.861964</td>\n",
       "      <td>0.824065</td>\n",
       "    </tr>\n",
       "    <tr>\n",
       "      <th>Width (mm)</th>\n",
       "      <td>0.815514</td>\n",
       "      <td>1.000000</td>\n",
       "      <td>0.625286</td>\n",
       "      <td>0.921525</td>\n",
       "      <td>0.882378</td>\n",
       "    </tr>\n",
       "    <tr>\n",
       "      <th>Thickness (mm)</th>\n",
       "      <td>0.609214</td>\n",
       "      <td>0.625286</td>\n",
       "      <td>1.000000</td>\n",
       "      <td>0.775599</td>\n",
       "      <td>0.737039</td>\n",
       "    </tr>\n",
       "    <tr>\n",
       "      <th>Mass (g)</th>\n",
       "      <td>0.861964</td>\n",
       "      <td>0.921525</td>\n",
       "      <td>0.775599</td>\n",
       "      <td>1.000000</td>\n",
       "      <td>0.965908</td>\n",
       "    </tr>\n",
       "    <tr>\n",
       "      <th>Volume (mm3)</th>\n",
       "      <td>0.824065</td>\n",
       "      <td>0.882378</td>\n",
       "      <td>0.737039</td>\n",
       "      <td>0.965908</td>\n",
       "      <td>1.000000</td>\n",
       "    </tr>\n",
       "  </tbody>\n",
       "</table>\n",
       "</div>"
      ],
      "text/plain": [
       "                Length (mm)  Width (mm)  Thickness (mm)  Mass (g)  \\\n",
       "Length (mm)        1.000000    0.815514        0.609214  0.861964   \n",
       "Width (mm)         0.815514    1.000000        0.625286  0.921525   \n",
       "Thickness (mm)     0.609214    0.625286        1.000000  0.775599   \n",
       "Mass (g)           0.861964    0.921525        0.775599  1.000000   \n",
       "Volume (mm3)       0.824065    0.882378        0.737039  0.965908   \n",
       "\n",
       "                Volume (mm3)  \n",
       "Length (mm)         0.824065  \n",
       "Width (mm)          0.882378  \n",
       "Thickness (mm)      0.737039  \n",
       "Mass (g)            0.965908  \n",
       "Volume (mm3)        1.000000  "
      ]
     },
     "execution_count": 107,
     "metadata": {},
     "output_type": "execute_result"
    }
   ],
   "source": [
    "correlation_lemon"
   ]
  },
  {
   "cell_type": "code",
   "execution_count": 108,
   "metadata": {},
   "outputs": [
    {
     "data": {
      "text/html": [
       "<div>\n",
       "<style scoped>\n",
       "    .dataframe tbody tr th:only-of-type {\n",
       "        vertical-align: middle;\n",
       "    }\n",
       "\n",
       "    .dataframe tbody tr th {\n",
       "        vertical-align: top;\n",
       "    }\n",
       "\n",
       "    .dataframe thead th {\n",
       "        text-align: right;\n",
       "    }\n",
       "</style>\n",
       "<table border=\"1\" class=\"dataframe\">\n",
       "  <thead>\n",
       "    <tr style=\"text-align: right;\">\n",
       "      <th></th>\n",
       "      <th>Length (mm)</th>\n",
       "      <th>Width (mm)</th>\n",
       "      <th>Thickness (mm)</th>\n",
       "      <th>Mass (g)</th>\n",
       "      <th>Volume (mm3)</th>\n",
       "    </tr>\n",
       "  </thead>\n",
       "  <tbody>\n",
       "    <tr>\n",
       "      <th>Length (mm)</th>\n",
       "      <td>1.000000</td>\n",
       "      <td>0.633503</td>\n",
       "      <td>0.600403</td>\n",
       "      <td>0.835404</td>\n",
       "      <td>0.810983</td>\n",
       "    </tr>\n",
       "    <tr>\n",
       "      <th>Width (mm)</th>\n",
       "      <td>0.633503</td>\n",
       "      <td>1.000000</td>\n",
       "      <td>0.878653</td>\n",
       "      <td>0.891249</td>\n",
       "      <td>0.883099</td>\n",
       "    </tr>\n",
       "    <tr>\n",
       "      <th>Thickness (mm)</th>\n",
       "      <td>0.600403</td>\n",
       "      <td>0.878653</td>\n",
       "      <td>1.000000</td>\n",
       "      <td>0.865334</td>\n",
       "      <td>0.859629</td>\n",
       "    </tr>\n",
       "    <tr>\n",
       "      <th>Mass (g)</th>\n",
       "      <td>0.835404</td>\n",
       "      <td>0.891249</td>\n",
       "      <td>0.865334</td>\n",
       "      <td>1.000000</td>\n",
       "      <td>0.982515</td>\n",
       "    </tr>\n",
       "    <tr>\n",
       "      <th>Volume (mm3)</th>\n",
       "      <td>0.810983</td>\n",
       "      <td>0.883099</td>\n",
       "      <td>0.859629</td>\n",
       "      <td>0.982515</td>\n",
       "      <td>1.000000</td>\n",
       "    </tr>\n",
       "  </tbody>\n",
       "</table>\n",
       "</div>"
      ],
      "text/plain": [
       "                Length (mm)  Width (mm)  Thickness (mm)  Mass (g)  \\\n",
       "Length (mm)        1.000000    0.633503        0.600403  0.835404   \n",
       "Width (mm)         0.633503    1.000000        0.878653  0.891249   \n",
       "Thickness (mm)     0.600403    0.878653        1.000000  0.865334   \n",
       "Mass (g)           0.835404    0.891249        0.865334  1.000000   \n",
       "Volume (mm3)       0.810983    0.883099        0.859629  0.982515   \n",
       "\n",
       "                Volume (mm3)  \n",
       "Length (mm)         0.810983  \n",
       "Width (mm)          0.883099  \n",
       "Thickness (mm)      0.859629  \n",
       "Mass (g)            0.982515  \n",
       "Volume (mm3)        1.000000  "
      ]
     },
     "execution_count": 108,
     "metadata": {},
     "output_type": "execute_result"
    }
   ],
   "source": [
    "correlation_tangelo"
   ]
  },
  {
   "cell_type": "code",
   "execution_count": 109,
   "metadata": {},
   "outputs": [
    {
     "data": {
      "text/plain": [
       "<matplotlib.axes._subplots.AxesSubplot at 0x150d668f550>"
      ]
     },
     "execution_count": 109,
     "metadata": {},
     "output_type": "execute_result"
    },
    {
     "data": {
      "image/png": "[encoded data removed]",
      "text/plain": [
       "<Figure size 432x288 with 2 Axes>"
      ]
     },
     "metadata": {
      "needs_background": "light"
     },
     "output_type": "display_data"
    }
   ],
   "source": [
    "sns.heatmap(correlation_jagan)"
   ]
  },
  {
   "cell_type": "code",
   "execution_count": 110,
   "metadata": {},
   "outputs": [
    {
     "data": {
      "text/plain": [
       "<matplotlib.axes._subplots.AxesSubplot at 0x150d7adb760>"
      ]
     },
     "execution_count": 110,
     "metadata": {},
     "output_type": "execute_result"
    },
    {
     "data": {
      "image/png": "[encoded data removed]",
      "text/plain": [
       "<Figure size 432x288 with 2 Axes>"
      ]
     },
     "metadata": {
      "needs_background": "light"
     },
     "output_type": "display_data"
    }
   ],
   "source": [
    "sns.heatmap(correlation_tanco)"
   ]
  },
  {
   "cell_type": "code",
   "execution_count": 111,
   "metadata": {},
   "outputs": [
    {
     "data": {
      "text/plain": [
       "<matplotlib.axes._subplots.AxesSubplot at 0x150d7bf9490>"
      ]
     },
     "execution_count": 111,
     "metadata": {},
     "output_type": "execute_result"
    },
    {
     "data": {
      "image/png": "[encoded data removed]",
      "text/plain": [
       "<Figure size 432x288 with 2 Axes>"
      ]
     },
     "metadata": {
      "needs_background": "light"
     },
     "output_type": "display_data"
    }
   ],
   "source": [
    "sns.heatmap(correlation_lemon)"
   ]
  },
  {
   "cell_type": "code",
   "execution_count": 112,
   "metadata": {},
   "outputs": [
    {
     "data": {
      "text/plain": [
       "<matplotlib.axes._subplots.AxesSubplot at 0x150d69de3a0>"
      ]
     },
     "execution_count": 112,
     "metadata": {},
     "output_type": "execute_result"
    },
    {
     "data": {
      "image/png": "[encoded data removed]",
      "text/plain": [
       "<Figure size 432x288 with 2 Axes>"
      ]
     },
     "metadata": {
      "needs_background": "light"
     },
     "output_type": "display_data"
    }
   ],
   "source": [
    "sns.heatmap(correlation_tangelo)"
   ]
  },
  {
   "cell_type": "code",
   "execution_count": 164,
   "metadata": {},
   "outputs": [
    {
     "data": {
      "text/plain": [
       "<matplotlib.axes._subplots.AxesSubplot at 0x150df028340>"
      ]
     },
     "execution_count": 164,
     "metadata": {},
     "output_type": "execute_result"
    },
    {
     "data": {
      "image/png": "[encoded data removed]",
      "text/plain": [
       "<Figure size 432x288 with 1 Axes>"
      ]
     },
     "metadata": {
      "needs_background": "light"
     },
     "output_type": "display_data"
    }
   ],
   "source": [
    "sns.boxplot(data = jagan)"
   ]
  },
  {
   "cell_type": "code",
   "execution_count": 165,
   "metadata": {},
   "outputs": [
    {
     "data": {
      "text/plain": [
       "<matplotlib.axes._subplots.AxesSubplot at 0x150df484cd0>"
      ]
     },
     "execution_count": 165,
     "metadata": {},
     "output_type": "execute_result"
    },
    {
     "data": {
      "image/png": "[encoded data removed]",
      "text/plain": [
       "<Figure size 432x288 with 1 Axes>"
      ]
     },
     "metadata": {
      "needs_background": "light"
     },
     "output_type": "display_data"
    }
   ],
   "source": [
    "sns.boxplot(data = tanco)"
   ]
  },
  {
   "cell_type": "code",
   "execution_count": 166,
   "metadata": {},
   "outputs": [
    {
     "data": {
      "text/plain": [
       "<matplotlib.axes._subplots.AxesSubplot at 0x150df7c3fd0>"
      ]
     },
     "execution_count": 166,
     "metadata": {},
     "output_type": "execute_result"
    },
    {
     "data": {
      "image/png": "[encoded data removed]",
      "text/plain": [
       "<Figure size 432x288 with 1 Axes>"
      ]
     },
     "metadata": {
      "needs_background": "light"
     },
     "output_type": "display_data"
    }
   ],
   "source": [
    "sns.boxplot(data = lemon)"
   ]
  },
  {
   "cell_type": "code",
   "execution_count": 167,
   "metadata": {
    "scrolled": false
   },
   "outputs": [
    {
     "data": {
      "text/plain": [
       "<matplotlib.axes._subplots.AxesSubplot at 0x150df35f9a0>"
      ]
     },
     "execution_count": 167,
     "metadata": {},
     "output_type": "execute_result"
    },
    {
     "data": {
      "image/png": "[encoded data removed]",
      "text/plain": [
       "<Figure size 432x288 with 1 Axes>"
      ]
     },
     "metadata": {
      "needs_background": "light"
     },
     "output_type": "display_data"
    }
   ],
   "source": [
    "sns.boxplot(data = tangelo)"
   ]
  },
  {
   "cell_type": "code",
   "execution_count": 407,
   "metadata": {
    "scrolled": true
   },
   "outputs": [
    {
     "data": {
      "text/plain": [
       "<matplotlib.axes._subplots.AxesSubplot at 0x150e0d1a0d0>"
      ]
     },
     "execution_count": 407,
     "metadata": {},
     "output_type": "execute_result"
    },
    {
     "data": {
      "image/png": "[encoded data removed]",
      "text/plain": [
       "<Figure size 432x288 with 1 Axes>"
      ]
     },
     "metadata": {
      "needs_background": "light"
     },
     "output_type": "display_data"
    }
   ],
   "source": [
    "sns.boxplot(data = correlation_jagan)"
   ]
  },
  {
   "cell_type": "code",
   "execution_count": 408,
   "metadata": {},
   "outputs": [
    {
     "data": {
      "text/plain": [
       "<matplotlib.axes._subplots.AxesSubplot at 0x150e0d2c640>"
      ]
     },
     "execution_count": 408,
     "metadata": {},
     "output_type": "execute_result"
    },
    {
     "data": {
      "image/png": "[encoded data removed]",
      "text/plain": [
       "<Figure size 432x288 with 1 Axes>"
      ]
     },
     "metadata": {
      "needs_background": "light"
     },
     "output_type": "display_data"
    }
   ],
   "source": [
    "sns.boxplot(data = correlation_tanco)"
   ]
  },
  {
   "cell_type": "code",
   "execution_count": 409,
   "metadata": {},
   "outputs": [
    {
     "data": {
      "text/plain": [
       "<matplotlib.axes._subplots.AxesSubplot at 0x150e0d6d3a0>"
      ]
     },
     "execution_count": 409,
     "metadata": {},
     "output_type": "execute_result"
    },
    {
     "data": {
      "image/png": "[encoded data removed]",
      "text/plain": [
       "<Figure size 432x288 with 1 Axes>"
      ]
     },
     "metadata": {
      "needs_background": "light"
     },
     "output_type": "display_data"
    }
   ],
   "source": [
    "sns.boxplot(data = correlation_lemon)"
   ]
  },
  {
   "cell_type": "code",
   "execution_count": 410,
   "metadata": {},
   "outputs": [
    {
     "data": {
      "text/plain": [
       "<matplotlib.axes._subplots.AxesSubplot at 0x150e0d7f670>"
      ]
     },
     "execution_count": 410,
     "metadata": {},
     "output_type": "execute_result"
    },
    {
     "data": {
      "image/png": "[encoded data removed]",
      "text/plain": [
       "<Figure size 432x288 with 1 Axes>"
      ]
     },
     "metadata": {
      "needs_background": "light"
     },
     "output_type": "display_data"
    }
   ],
   "source": [
    "sns.boxplot(data = correlation_tangelo)"
   ]
  },
  {
   "cell_type": "code",
   "execution_count": null,
   "metadata": {},
   "outputs": [],
   "source": []
  },
  {
   "cell_type": "code",
   "execution_count": 168,
   "metadata": {},
   "outputs": [
    {
     "data": {
      "text/plain": [
       "Index(['Length (mm)', 'Width (mm)', 'Thickness (mm)', 'Mass (g)',\n",
       "       'Volume(mm3)'],\n",
       "      dtype='object')"
      ]
     },
     "execution_count": 168,
     "metadata": {},
     "output_type": "execute_result"
    }
   ],
   "source": [
    "jagan.columns"
   ]
  },
  {
   "cell_type": "code",
   "execution_count": 169,
   "metadata": {},
   "outputs": [],
   "source": [
    "## Anova and p-value test\n",
    "import scipy.stats as stats\n",
    "from scipy.stats import ttest_ind\n",
    "from scipy.stats import f_oneway"
   ]
  },
  {
   "cell_type": "code",
   "execution_count": 170,
   "metadata": {},
   "outputs": [
    {
     "data": {
      "text/plain": [
       "F_onewayResult(statistic=0.09494474498899315, pvalue=0.9094497035330074)"
      ]
     },
     "execution_count": 170,
     "metadata": {},
     "output_type": "execute_result"
    }
   ],
   "source": [
    "length = jagan['Length (mm)']\n",
    "width = jagan['Width (mm)']\n",
    "thickness = jagan['Thickness (mm)']\n",
    "stats.f_oneway(length, width, thickness)\n"
   ]
  },
  {
   "cell_type": "code",
   "execution_count": 446,
   "metadata": {},
   "outputs": [],
   "source": [
    "x = tanco[['Length (mm)', 'Width (mm)', 'Thickness (mm)',\n",
    "       'Volume(mm3)']]\n",
    "y = tanco['Mass (g)']"
   ]
  },
  {
   "cell_type": "code",
   "execution_count": null,
   "metadata": {},
   "outputs": [],
   "source": []
  },
  {
   "cell_type": "code",
   "execution_count": 447,
   "metadata": {},
   "outputs": [],
   "source": [
    "from sklearn.model_selection import train_test_split\n",
    "x_train, x_test, y_train, y_test = train_test_split(x, y, test_size = 0.1, random_state = 101)"
   ]
  },
  {
   "cell_type": "code",
   "execution_count": 448,
   "metadata": {},
   "outputs": [
    {
     "data": {
      "text/html": [
       "<div>\n",
       "<style scoped>\n",
       "    .dataframe tbody tr th:only-of-type {\n",
       "        vertical-align: middle;\n",
       "    }\n",
       "\n",
       "    .dataframe tbody tr th {\n",
       "        vertical-align: top;\n",
       "    }\n",
       "\n",
       "    .dataframe thead th {\n",
       "        text-align: right;\n",
       "    }\n",
       "</style>\n",
       "<table border=\"1\" class=\"dataframe\">\n",
       "  <thead>\n",
       "    <tr style=\"text-align: right;\">\n",
       "      <th></th>\n",
       "      <th>Length (mm)</th>\n",
       "      <th>Width (mm)</th>\n",
       "      <th>Thickness (mm)</th>\n",
       "      <th>Volume(mm3)</th>\n",
       "    </tr>\n",
       "  </thead>\n",
       "  <tbody>\n",
       "    <tr>\n",
       "      <th>120</th>\n",
       "      <td>75.0</td>\n",
       "      <td>74.55</td>\n",
       "      <td>67.4</td>\n",
       "      <td>15</td>\n",
       "    </tr>\n",
       "    <tr>\n",
       "      <th>69</th>\n",
       "      <td>71.1</td>\n",
       "      <td>71.80</td>\n",
       "      <td>66.8</td>\n",
       "      <td>80</td>\n",
       "    </tr>\n",
       "    <tr>\n",
       "      <th>25</th>\n",
       "      <td>73.1</td>\n",
       "      <td>71.45</td>\n",
       "      <td>71.3</td>\n",
       "      <td>36</td>\n",
       "    </tr>\n",
       "    <tr>\n",
       "      <th>13</th>\n",
       "      <td>71.0</td>\n",
       "      <td>70.65</td>\n",
       "      <td>62.4</td>\n",
       "      <td>60</td>\n",
       "    </tr>\n",
       "    <tr>\n",
       "      <th>21</th>\n",
       "      <td>68.3</td>\n",
       "      <td>78.55</td>\n",
       "      <td>60.2</td>\n",
       "      <td>27</td>\n",
       "    </tr>\n",
       "    <tr>\n",
       "      <th>...</th>\n",
       "      <td>...</td>\n",
       "      <td>...</td>\n",
       "      <td>...</td>\n",
       "      <td>...</td>\n",
       "    </tr>\n",
       "    <tr>\n",
       "      <th>63</th>\n",
       "      <td>76.3</td>\n",
       "      <td>76.25</td>\n",
       "      <td>66.8</td>\n",
       "      <td>55</td>\n",
       "    </tr>\n",
       "    <tr>\n",
       "      <th>70</th>\n",
       "      <td>73.2</td>\n",
       "      <td>72.40</td>\n",
       "      <td>61.6</td>\n",
       "      <td>20</td>\n",
       "    </tr>\n",
       "    <tr>\n",
       "      <th>81</th>\n",
       "      <td>68.5</td>\n",
       "      <td>67.65</td>\n",
       "      <td>66.6</td>\n",
       "      <td>28</td>\n",
       "    </tr>\n",
       "    <tr>\n",
       "      <th>11</th>\n",
       "      <td>66.5</td>\n",
       "      <td>66.60</td>\n",
       "      <td>60.3</td>\n",
       "      <td>40</td>\n",
       "    </tr>\n",
       "    <tr>\n",
       "      <th>95</th>\n",
       "      <td>62.4</td>\n",
       "      <td>63.35</td>\n",
       "      <td>59.2</td>\n",
       "      <td>21</td>\n",
       "    </tr>\n",
       "  </tbody>\n",
       "</table>\n",
       "<p>111 rows × 4 columns</p>\n",
       "</div>"
      ],
      "text/plain": [
       "     Length (mm)  Width (mm)  Thickness (mm)  Volume(mm3)\n",
       "120         75.0       74.55            67.4           15\n",
       "69          71.1       71.80            66.8           80\n",
       "25          73.1       71.45            71.3           36\n",
       "13          71.0       70.65            62.4           60\n",
       "21          68.3       78.55            60.2           27\n",
       "..           ...         ...             ...          ...\n",
       "63          76.3       76.25            66.8           55\n",
       "70          73.2       72.40            61.6           20\n",
       "81          68.5       67.65            66.6           28\n",
       "11          66.5       66.60            60.3           40\n",
       "95          62.4       63.35            59.2           21\n",
       "\n",
       "[111 rows x 4 columns]"
      ]
     },
     "execution_count": 448,
     "metadata": {},
     "output_type": "execute_result"
    }
   ],
   "source": [
    "\n",
    "x_train"
   ]
  },
  {
   "cell_type": "code",
   "execution_count": 449,
   "metadata": {},
   "outputs": [],
   "source": [
    "#fitting simple linear regression to the training set\n",
    "from sklearn.linear_model import LinearRegression\n",
    "regressor=LinearRegression()"
   ]
  },
  {
   "cell_type": "code",
   "execution_count": 450,
   "metadata": {
    "scrolled": false
   },
   "outputs": [
    {
     "data": {
      "text/plain": [
       "LinearRegression()"
      ]
     },
     "execution_count": 450,
     "metadata": {},
     "output_type": "execute_result"
    }
   ],
   "source": [
    "#fit the regressor\n",
    "regressor.fit(x_train,y_train)"
   ]
  },
  {
   "cell_type": "code",
   "execution_count": 451,
   "metadata": {},
   "outputs": [],
   "source": [
    "#y_train"
   ]
  },
  {
   "cell_type": "code",
   "execution_count": 452,
   "metadata": {},
   "outputs": [],
   "source": [
    "#y_test"
   ]
  },
  {
   "cell_type": "code",
   "execution_count": 453,
   "metadata": {},
   "outputs": [],
   "source": [
    "#predictig test results\n",
    "y_pred = regressor.predict(x_test)"
   ]
  },
  {
   "cell_type": "code",
   "execution_count": 454,
   "metadata": {},
   "outputs": [],
   "source": [
    "from sklearn.metrics import mean_absolute_error\n",
    "from sklearn.metrics import r2_score\n",
    "from sklearn.metrics import mean_squared_error"
   ]
  },
  {
   "cell_type": "code",
   "execution_count": 455,
   "metadata": {},
   "outputs": [
    {
     "data": {
      "text/plain": [
       "7.870383771097835"
      ]
     },
     "execution_count": 455,
     "metadata": {},
     "output_type": "execute_result"
    }
   ],
   "source": [
    "mean_absolute_error(y_test, y_pred)"
   ]
  },
  {
   "cell_type": "code",
   "execution_count": 456,
   "metadata": {},
   "outputs": [
    {
     "data": {
      "text/plain": [
       "84.48990865432674"
      ]
     },
     "execution_count": 456,
     "metadata": {},
     "output_type": "execute_result"
    }
   ],
   "source": [
    "mean_squared_error(y_test, y_pred)"
   ]
  },
  {
   "cell_type": "code",
   "execution_count": 457,
   "metadata": {},
   "outputs": [
    {
     "data": {
      "text/plain": [
       "0.8954421481731717"
      ]
     },
     "execution_count": 457,
     "metadata": {},
     "output_type": "execute_result"
    }
   ],
   "source": [
    "r2_score(y_test, y_pred)"
   ]
  },
  {
   "cell_type": "code",
   "execution_count": 423,
   "metadata": {},
   "outputs": [
    {
     "name": "stdout",
     "output_type": "stream",
     "text": [
      "[0.52232432 0.71611759 0.82730509 0.80846997 0.65062258]\n"
     ]
    }
   ],
   "source": [
    "from sklearn import linear_model\n",
    "from sklearn. model_selection import cross_val_score\n",
    "lasso = linear_model.Lasso()\n",
    "print(cross_val_score(lasso, x, y, cv=5))"
   ]
  },
  {
   "cell_type": "code",
   "execution_count": 510,
   "metadata": {},
   "outputs": [
    {
     "data": {
      "text/plain": [
       "Index(['Length (mm)', 'Width (mm)', 'Thickness (mm)', 'Mass (g)',\n",
       "       'Volume(mm3)'],\n",
       "      dtype='object')"
      ]
     },
     "execution_count": 510,
     "metadata": {},
     "output_type": "execute_result"
    }
   ],
   "source": [
    "jagan.columns"
   ]
  },
  {
   "cell_type": "code",
   "execution_count": 531,
   "metadata": {},
   "outputs": [],
   "source": [
    "X = jagan[['Length (mm)', 'Width (mm)', 'Thickness (mm)', 'Volume(mm3)']]\n",
    "Y = jagan['Mass (g)']"
   ]
  },
  {
   "cell_type": "code",
   "execution_count": 532,
   "metadata": {},
   "outputs": [],
   "source": [
    "from sklearn.model_selection import train_test_split\n",
    "X_train, X_test, Y_train, Y_test = train_test_split(X, Y, test_size = 0.1, random_state = 101, shuffle = True)\n",
    "\n",
    "#fitting simple linear regression to the training set\n",
    "from sklearn.linear_model import LinearRegression\n",
    "regressor=LinearRegression()\n",
    "\n",
    "#fit the regressor\n",
    "regressor.fit(X_train,Y_train)\n",
    "\n",
    "#predictig test results\n",
    "y_pred = regressor.predict(X_test)\n",
    "\n",
    "from sklearn.metrics import mean_absolute_error\n",
    "from sklearn.metrics import r2_score\n",
    "from sklearn.metrics import mean_squared_error"
   ]
  },
  {
   "cell_type": "code",
   "execution_count": 533,
   "metadata": {},
   "outputs": [
    {
     "data": {
      "text/plain": [
       "12.106624445977781"
      ]
     },
     "execution_count": 533,
     "metadata": {},
     "output_type": "execute_result"
    }
   ],
   "source": [
    "mean_absolute_error(Y_test, y_pred)"
   ]
  },
  {
   "cell_type": "code",
   "execution_count": 534,
   "metadata": {},
   "outputs": [
    {
     "data": {
      "text/plain": [
       "207.36030946279595"
      ]
     },
     "execution_count": 534,
     "metadata": {},
     "output_type": "execute_result"
    }
   ],
   "source": [
    "mean_squared_error(Y_test, y_pred)"
   ]
  },
  {
   "cell_type": "code",
   "execution_count": 535,
   "metadata": {},
   "outputs": [
    {
     "data": {
      "text/plain": [
       "0.6636980938913006"
      ]
     },
     "execution_count": 535,
     "metadata": {},
     "output_type": "execute_result"
    }
   ],
   "source": [
    "r2_score(Y_test, y_pred)"
   ]
  },
  {
   "cell_type": "code",
   "execution_count": 536,
   "metadata": {},
   "outputs": [
    {
     "name": "stdout",
     "output_type": "stream",
     "text": [
      "[0.52202764 0.71764375 0.82774478 0.80596456 0.64707755]\n"
     ]
    }
   ],
   "source": [
    "from sklearn import linear_model\n",
    "from sklearn. model_selection import cross_val_score\n",
    "lasso = linear_model.Lasso()\n",
    "print(cross_val_score(lasso, x, y, cv=5))"
   ]
  },
  {
   "cell_type": "code",
   "execution_count": null,
   "metadata": {},
   "outputs": [],
   "source": []
  },
  {
   "cell_type": "code",
   "execution_count": 537,
   "metadata": {},
   "outputs": [],
   "source": [
    "X = lemon[['Length (mm)', 'Width (mm)', 'Thickness (mm)', 'Volume (mm3)']]\n",
    "Y = lemon['Mass (g)']"
   ]
  },
  {
   "cell_type": "code",
   "execution_count": 538,
   "metadata": {},
   "outputs": [],
   "source": [
    "from sklearn.model_selection import train_test_split\n",
    "X_train, X_test, Y_train, Y_test = train_test_split(X, Y, test_size = 0.1, random_state = 101, shuffle = True)\n",
    "\n",
    "#fitting simple linear regression to the training set\n",
    "from sklearn.linear_model import LinearRegression\n",
    "regressor=LinearRegression()\n",
    "\n",
    "#fit the regressor\n",
    "regressor.fit(X_train,Y_train)\n",
    "\n",
    "#predictig test results\n",
    "y_pred = regressor.predict(X_test)\n",
    "\n",
    "from sklearn.metrics import mean_absolute_error\n",
    "from sklearn.metrics import r2_score\n",
    "from sklearn.metrics import mean_squared_error"
   ]
  },
  {
   "cell_type": "code",
   "execution_count": 539,
   "metadata": {},
   "outputs": [
    {
     "name": "stdout",
     "output_type": "stream",
     "text": [
      "6.041226850845742 60.819211445380645 0.9420498479029861\n"
     ]
    }
   ],
   "source": [
    "print(mean_absolute_error(Y_test, y_pred),mean_squared_error(Y_test, y_pred),r2_score(Y_test, y_pred) )"
   ]
  },
  {
   "cell_type": "code",
   "execution_count": 540,
   "metadata": {},
   "outputs": [
    {
     "name": "stdout",
     "output_type": "stream",
     "text": [
      "[0.52202764 0.71764375 0.82774478 0.80596456 0.64707755]\n"
     ]
    }
   ],
   "source": [
    "from sklearn import linear_model\n",
    "from sklearn. model_selection import cross_val_score\n",
    "lasso = linear_model.Lasso()\n",
    "print(cross_val_score(lasso, x, y, cv=5))"
   ]
  },
  {
   "cell_type": "code",
   "execution_count": null,
   "metadata": {},
   "outputs": [],
   "source": []
  },
  {
   "cell_type": "code",
   "execution_count": null,
   "metadata": {},
   "outputs": [],
   "source": []
  },
  {
   "cell_type": "code",
   "execution_count": 503,
   "metadata": {},
   "outputs": [],
   "source": [
    "X1 = lemon[['Length (mm)', 'Width (mm)', 'Thickness (mm)', 'Volume (mm3)']]\n",
    "Y1 = lemon['Mass (g)']"
   ]
  },
  {
   "cell_type": "code",
   "execution_count": 504,
   "metadata": {},
   "outputs": [],
   "source": [
    "from sklearn.model_selection import train_test_split\n",
    "X1_train, X1_test, Y1_train, Y1_test = train_test_split(X1, Y1, test_size = 0.1, random_state = 101, shuffle = True)\n",
    "\n",
    "#fitting simple linear regression to the training set\n",
    "from sklearn.linear_model import LinearRegression\n",
    "regressor=LinearRegression()\n",
    "\n",
    "#fit the regressor\n",
    "regressor.fit(X1_train,Y1_train)\n",
    "\n",
    "#predictig test results\n",
    "y_pred = regressor.predict(X1_test)\n",
    "\n",
    "from sklearn.metrics import mean_absolute_error\n",
    "from sklearn.metrics import r2_score\n",
    "from sklearn.metrics import mean_squared_error"
   ]
  },
  {
   "cell_type": "code",
   "execution_count": 505,
   "metadata": {},
   "outputs": [
    {
     "name": "stdout",
     "output_type": "stream",
     "text": [
      "6.041226850845742 60.819211445380645 0.9420498479029861\n"
     ]
    }
   ],
   "source": [
    "print(mean_absolute_error(Y1_test, y_pred),mean_squared_error(Y1_test, y_pred),r2_score(Y1_test, y_pred) )"
   ]
  },
  {
   "cell_type": "code",
   "execution_count": 549,
   "metadata": {},
   "outputs": [
    {
     "name": "stdout",
     "output_type": "stream",
     "text": [
      "[0.60566316 0.80816718 0.65994099]\n"
     ]
    }
   ],
   "source": [
    "from sklearn import linear_model\n",
    "from sklearn. model_selection import cross_val_score\n",
    "lasso = linear_model.Lasso()\n",
    "print(cross_val_score(lasso, x, y, cv=3))"
   ]
  },
  {
   "cell_type": "code",
   "execution_count": 573,
   "metadata": {},
   "outputs": [],
   "source": [
    "parameter = tangelo[['Length (mm)', 'Width (mm)', 'Thickness (mm)', 'Volume (mm3)']]"
   ]
  },
  {
   "cell_type": "code",
   "execution_count": 574,
   "metadata": {},
   "outputs": [],
   "source": [
    "X = parameter"
   ]
  },
  {
   "cell_type": "code",
   "execution_count": 575,
   "metadata": {
    "scrolled": true
   },
   "outputs": [
    {
     "data": {
      "text/plain": [
       "(120, 4)"
      ]
     },
     "execution_count": 575,
     "metadata": {},
     "output_type": "execute_result"
    }
   ],
   "source": [
    "X.shape"
   ]
  },
  {
   "cell_type": "code",
   "execution_count": 576,
   "metadata": {},
   "outputs": [
    {
     "data": {
      "text/plain": [
       "(120,)"
      ]
     },
     "execution_count": 576,
     "metadata": {},
     "output_type": "execute_result"
    }
   ],
   "source": [
    "Y.shape"
   ]
  },
  {
   "cell_type": "code",
   "execution_count": 569,
   "metadata": {},
   "outputs": [],
   "source": [
    "X = np.arange(0, len(X_train), 1)"
   ]
  },
  {
   "cell_type": "code",
   "execution_count": 577,
   "metadata": {},
   "outputs": [],
   "source": [
    "X = parameter\n",
    "Y = tangelo['Mass (g)']"
   ]
  },
  {
   "cell_type": "code",
   "execution_count": 578,
   "metadata": {},
   "outputs": [],
   "source": [
    "from sklearn.model_selection import train_test_split\n",
    "X_train, X_test, Y_train, Y_test = train_test_split(X, Y, test_size = 0.1, random_state = 101, shuffle = True)\n",
    "\n",
    "#fitting simple linear regression to the training set\n",
    "from sklearn.linear_model import LinearRegression\n",
    "regressor=LinearRegression()\n",
    "\n",
    "#fit the regressor\n",
    "regressor.fit(X_train,Y_train)\n",
    "\n",
    "#predictig test results\n",
    "y_pred = regressor.predict(X_test)\n",
    "\n",
    "from sklearn.metrics import mean_absolute_error\n",
    "from sklearn.metrics import r2_score\n",
    "from sklearn.metrics import mean_squared_error"
   ]
  },
  {
   "cell_type": "code",
   "execution_count": 579,
   "metadata": {},
   "outputs": [
    {
     "name": "stdout",
     "output_type": "stream",
     "text": [
      "1.130412044369541 4.028213919369706 0.9616971347679568\n"
     ]
    }
   ],
   "source": [
    "print(mean_absolute_error(Y_test, y_pred),mean_squared_error(Y_test, y_pred),r2_score(Y_test, y_pred) )"
   ]
  },
  {
   "cell_type": "code",
   "execution_count": 580,
   "metadata": {},
   "outputs": [],
   "source": [
    "X_train = np.arange(0, len(X_train), 1)"
   ]
  },
  {
   "cell_type": "code",
   "execution_count": 581,
   "metadata": {},
   "outputs": [
    {
     "data": {
      "text/plain": [
       "(108,)"
      ]
     },
     "execution_count": 581,
     "metadata": {},
     "output_type": "execute_result"
    }
   ],
   "source": [
    "X_train.shape"
   ]
  },
  {
   "cell_type": "code",
   "execution_count": null,
   "metadata": {},
   "outputs": [],
   "source": []
  },
  {
   "cell_type": "code",
   "execution_count": null,
   "metadata": {},
   "outputs": [],
   "source": []
  }
 ],
 "metadata": {
  "kernelspec": {
   "display_name": "Python 3",
   "language": "python",
   "name": "python3"
  },
  "language_info": {
   "codemirror_mode": {
    "name": "ipython",
    "version": 3
   },
   "file_extension": ".py",
   "mimetype": "text/x-python",
   "name": "python",
   "nbconvert_exporter": "python",
   "pygments_lexer": "ipython3",
   "version": "3.8.3"
  }
 },
 "nbformat": 4,
 "nbformat_minor": 4
}
